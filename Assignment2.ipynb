{
  "nbformat": 4,
  "nbformat_minor": 0,
  "metadata": {
    "colab": {
      "provenance": []
    },
    "kernelspec": {
      "name": "python3",
      "display_name": "Python 3"
    },
    "language_info": {
      "name": "python"
    }
  },
  "cells": [
    {
      "cell_type": "code",
      "execution_count": null,
      "metadata": {
        "id": "QYNiosyMfTk6"
      },
      "outputs": [],
      "source": []
    },
    {
      "cell_type": "code",
      "source": [],
      "metadata": {
        "id": "wya2ZPECfXmo"
      },
      "execution_count": null,
      "outputs": []
    },
    {
      "cell_type": "markdown",
      "source": [
        "1. What is Python, and why is it popular?\n",
        "   Python is a high-level, interpreted programming language known for its simplicity, readability, and versatility. It was created by Guido van Rossum and first released in 1991. Python is widely used in web development, data science, artificial intelligence, automation, game development, and more.\n",
        "\n",
        "   *Why is Python Popular?*\n",
        "   1- Easy to Learn and Use – Python has a simple and readable syntax, making it beginner-friendly.\n",
        "   2- Versatile and Multi-purpose – Python can be used for web development, data analysis, AI/ML, automation, and more.\n",
        "   3- Huge Community Support – A vast global community contributes to Python, offering support, libraries, and frameworks.\n",
        "   4- Extensive Libraries and Frameworks – Python has powerful libraries like NumPy, Pandas, TensorFlow, Flask, Django, etc.\n",
        "   5- Cross-Platform Compatibility – Python runs on Windows, macOS, and Linux without modification.\n",
        "   6- Rapid Development & Prototyping – Python allows fast development, making it ideal for startups and prototyping.\n",
        "   7- Strong Integration Capabilities – Python integrates well with other languages like C, C++, and Java.\n",
        "\n",
        "2. What is an interpreter in Python?\n",
        "  An interpreter in Python is a program that executes Python code line by line, rather than compiling the entire program before running it. This makes Python an interpreted language, which allows for easier debugging and faster development. When a Python script is executed, the interpreter first converts the code into an intermediate form called bytecode, which is then processed by the Python Virtual Machine (PVM) to produce the final output. Python's interpreter makes it platform-independent, meaning the same code can run on different operating systems without modification. Some popular Python interpreters include CPython (the default), PyPy (which uses Just-In-Time compilation for faster execution), Jython (which runs on the Java Virtual Machine), and IronPython (for the .NET framework). The interactive nature of Python's interpreter also allows developers to execute commands directly, making it ideal for testing and rapid prototyping.\n",
        "\n",
        "3. What are pre-defined keywords in Python?\n",
        "   In Python, pre-defined keywords are reserved words that have special meanings and cannot be used as variable names, function names, or identifiers. These keywords are an essential part of Python’s syntax and help define its structure. Python has soft keywords (which have special meaning in specific contexts) and hard keywords (which are always reserved). Some common Python keywords include if, else, elif (for conditional statements), for, while (for loops), def, return (for defining functions), class (for defining classes), import (for importing modules), try, except, finally (for handling exceptions), and True, False, None (special values in Python). These keywords ensure that Python code is readable, structured, and follows a consistent syntax. To see all keywords in Python, you can use the keyword module by running import keyword; print(keyword.kwlist).\n",
        "\n",
        "4. Can keywords be used as variable names?\n",
        "   No, keywords cannot be used as variable names in Python because they are reserved words that have special meanings in the language. Using a keyword as a variable name would cause a syntax error, as Python would not be able to distinguish between the variable and its predefined function.\n",
        "\n",
        "5. What is mutability in Python?\n",
        "   Mutability in Python refers to an object's ability to change its value after creation. Python classifies objects into mutable (modifiable) and immutable (non-modifiable) types. Mutable objects, such as lists, dictionaries, and sets, allow modifications like adding, removing, or changing elements without changing their memory address. In contrast, immutable objects, such as integers, floats, strings, and tuples, cannot be altered after creation; any modification creates a new object instead of modifying the original one. Mutability plays a crucial role in performance, security, and memory management. For example, immutable objects are hashable and can be used as dictionary keys, while mutable objects offer flexibility in data manipulation. Understanding mutability helps in writing efficient and bug-free Python programs.\n",
        "\n",
        "6. Why are lists mutable, but tuples are immutable?\n",
        "   Lists in Python are mutable because they are designed to allow modifications such as adding, removing, or changing elements after creation. They store references to objects and can dynamically adjust their size. This flexibility makes lists ideal for situations where data needs to be frequently updated. For example, operations like append(), remove(), and slicing can directly modify a list without creating a new one. Since lists can change in place, they are stored in memory with an allocation that allows modifications, making them more dynamic but also potentially less efficient in certain cases.\n",
        "\n",
        "   On the other hand, tuples are immutable because their structure is fixed after creation. Unlike lists, any attempt to modify a tuple results in an error, ensuring that its contents remain constant throughout the program. This immutability provides performance benefits, as Python can optimize memory usage and allow tuples to be hashable, meaning they can be used as dictionary keys or set elements. Since tuples are read-only, they are safer for situations where data integrity is crucial, preventing accidental modifications. This makes them ideal for storing fixed collections of data, such as coordinates or configuration settings.\n",
        "\n",
        "7. What is the difference between “==” and “is” operators in Python?\n",
        "   In Python, the == operator checks for value equality, meaning it compares whether two variables contain the same data, regardless of whether they refer to the same memory location. On the other hand, the is operator checks for identity equality, meaning it verifies whether two variables refer to the exact same object in memory. For example, a == b will return True if a and b have the same value, even if they are stored in different memory locations, while a is b will return True only if both variables point to the same memory address. This distinction is crucial when working with mutable and immutable data types, as mutable objects (like lists) can have different instances with the same values, whereas immutable objects (like integers and strings) may be optimized by Python to reuse the same memory location for identical values.\n",
        "\n",
        "8. What are logical operators in Python?\n",
        "  Logical operators in Python are used to perform logical operations on boolean values (True or False) and help in decision-making. Python has three logical operators: and, or, and not. The and operator returns True if both conditions are true; otherwise, it returns False. The or operator returns True if at least one condition is true. The not operator negates the value, converting True to False and vice versa. These operators are commonly used in conditional statements and loops to control program flow. For example, in if (x > 0 and y > 0):, the condition evaluates to True only if both x and y are greater than zero. Similarly, if (x > 0 or y > 0): returns True if at least one of them is positive, while if not(x > 0): returns True if x is not greater than zero.\n",
        "\n",
        "9. What is type casting in Python?\n",
        "   Type casting in Python is the process of converting one data type into another, either implicitly (automatically by Python) or explicitly (manually by the programmer). Implicit type casting occurs when Python automatically converts a smaller data type to a larger one to prevent data loss, such as converting an integer to a float in an arithmetic operation (x = 5 + 2.0 results in x being 7.0). Explicit type casting, also known as type conversion, is done using built-in functions like int(), float(), str(), list(), and tuple(), allowing developers to convert data as needed. For example, int(\"10\") converts the string \"10\" to an integer, while str(100) converts the integer 100 into the string \"100\". Type casting is useful when handling user input, mathematical calculations, and data processing where type compatibility is required.\n",
        "\n",
        "10. What is the difference between implicit and explicit type casting?\n",
        "  Implicit type casting (type coercion) is automatically performed by Python when converting a smaller data type to a larger one to prevent data loss. For example, when adding an integer and a float (x = 5 + 2.0), Python converts the integer 5 into 5.0 before performing the operation, resulting in 7.0. Explicit type casting, on the other hand, is done manually using functions like int(), float(), and str(). For example, int(\"10\") converts a string \"10\" into an integer, while str(25) converts 25 into a string \"25\". Explicit type casting is useful when working with user input or handling different data types in calculations.\n",
        "\n",
        "11. What is the purpose of conditional statements in Python?\n",
        "  Conditional statements in Python control the flow of a program by executing different blocks of code based on conditions. These statements, such as if, elif, and else, allow a program to make decisions and respond dynamically to user inputs or variable values. For example, an if statement can check if a number is positive and execute a specific block of code, while an else statement provides an alternative action if the condition is false. Conditional statements make programs more interactive and flexible by enabling decision-making processes.\n",
        "\n",
        "12. How does the elif statement work?\n",
        " The elif (short for \"else if\") statement allows multiple conditions to be checked in a structured way after an initial if statement. It prevents the need for writing multiple if statements and ensures that only one condition executes. Python evaluates conditions from top to bottom, and once a True condition is found, the corresponding block runs, skipping any remaining conditions.\n",
        "\n",
        "13. What is the difference between for and while loops?\n",
        "  A for loop is used when the number of iterations is known or when iterating over a sequence (like a list, tuple, or range). It automatically handles loop control using an iterator. In contrast, a while loop is used when the number of iterations is unknown and depends on a condition being met. A while loop keeps executing as long as the condition remains True. For example, a for loop is ideal for iterating over a list, while a while loop is useful for waiting for user input or processing until a certain condition changes.\n",
        "\n",
        "14. Describe a scenario where a while loop is more suitable than a for loop?\n",
        " A while loop is more suitable in situations where the number of iterations is not predetermined. For example, in a password authentication system, a program should continuously prompt the user for the correct password until it is entered correctly. Since the number of attempts is unknown, a while loop is the best choice:\n",
        "\n",
        "python\n",
        "Copy\n",
        "Edit\n",
        "password = \"secret\"\n",
        "user_input = \"\"\n",
        "while user_input != password:\n",
        "    user_input = input(\"Enter password: \")\n",
        "print(\"Access granted.\")\n",
        "Here, the loop runs indefinitely until the user inputs the correct password, making it a more appropriate choice than a for loop.\n",
        "\n",
        "\n",
        "\n",
        "\n"
      ],
      "metadata": {
        "id": "HcxgKJw-fYri"
      }
    },
    {
      "cell_type": "code",
      "source": [
        "#1 Write a Python program to print \"Hello, World!y\n",
        "print('Hello World')\n"
      ],
      "metadata": {
        "colab": {
          "base_uri": "https://localhost:8080/"
        },
        "id": "c1oxU3tGh_Vd",
        "outputId": "20bc6520-c5df-4abc-caaa-1b9d0b774def"
      },
      "execution_count": 1,
      "outputs": [
        {
          "output_type": "stream",
          "name": "stdout",
          "text": [
            "Hello World\n"
          ]
        }
      ]
    },
    {
      "cell_type": "code",
      "source": [
        "#2 Write a Python program that displays your name and age\n",
        "\n",
        "name= ('Akansha')\n",
        "age= (20)\n",
        "print(name)\n",
        "print(age)"
      ],
      "metadata": {
        "colab": {
          "base_uri": "https://localhost:8080/"
        },
        "id": "W4ZX9etGiOyz",
        "outputId": "f042fc0b-51de-4ce7-966d-16185a035ba4"
      },
      "execution_count": 2,
      "outputs": [
        {
          "output_type": "stream",
          "name": "stdout",
          "text": [
            "Akansha\n",
            "20\n"
          ]
        }
      ]
    },
    {
      "cell_type": "code",
      "source": [
        "#3 Write code to print all the pre-defined keywords in Python using the keyword library\n",
        "\n",
        "import keyword\n",
        "\n",
        "print(\"Python Keywords:\")\n",
        "print(keyword.kwlist)"
      ],
      "metadata": {
        "colab": {
          "base_uri": "https://localhost:8080/"
        },
        "id": "IWTr68SriXpj",
        "outputId": "1996917a-1495-49ce-9c2f-5d8ed6de6b43"
      },
      "execution_count": 3,
      "outputs": [
        {
          "output_type": "stream",
          "name": "stdout",
          "text": [
            "Python Keywords:\n",
            "['False', 'None', 'True', 'and', 'as', 'assert', 'async', 'await', 'break', 'class', 'continue', 'def', 'del', 'elif', 'else', 'except', 'finally', 'for', 'from', 'global', 'if', 'import', 'in', 'is', 'lambda', 'nonlocal', 'not', 'or', 'pass', 'raise', 'return', 'try', 'while', 'with', 'yield']\n"
          ]
        }
      ]
    },
    {
      "cell_type": "code",
      "source": [
        "#4 Write a program that checks if a given word is a Python keyword\n",
        "import keyword\n",
        "\n",
        "# Function to check if a word is a Python keyword\n",
        "def check_keyword(word):\n",
        "    if keyword.iskeyword(word):\n",
        "        print(f\"'{word}' is a Python keyword.\")\n",
        "    else:\n",
        "        print(f\"'{word}' is NOT a Python keyword.\")\n",
        "\n",
        "# User input\n",
        "word = input(\"Enter a word: \")\n",
        "check_keyword(word)"
      ],
      "metadata": {
        "id": "besfywShi3Mi"
      },
      "execution_count": null,
      "outputs": []
    }
  ]
}