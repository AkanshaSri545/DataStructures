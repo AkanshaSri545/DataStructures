{
  "nbformat": 4,
  "nbformat_minor": 0,
  "metadata": {
    "colab": {
      "provenance": []
    },
    "kernelspec": {
      "name": "python3",
      "display_name": "Python 3"
    },
    "language_info": {
      "name": "python"
    }
  },
  "cells": [
    {
      "cell_type": "code",
      "execution_count": null,
      "metadata": {
        "id": "McHPwnoO9Xh2"
      },
      "outputs": [],
      "source": []
    },
    {
      "cell_type": "markdown",
      "source": [
        "1. What are data structures, and why are they important?\n",
        " >> It is a way of organizing snd storing data in a computer so that it can be\n",
        "  used later to enable efiicient access and data manipulation.\n",
        "  They are important because-\n",
        "  a) They reduce the time required for operations.\n",
        "  b) They improve the performance of algorithm leading to faster and more efficient software.\n",
        "  c) Makes code easier to understand.\n",
        "  d) Provide buliding blocks for creating more complex software\n",
        "  e)Allow to implement efficient solutions to various problems.\n",
        "\n",
        "2. Explain the difference between mutable and immutable data types with examples?\n",
        " >> In Python, mutable and immutable data types refer to whether an object’s\n",
        "  value can be changed after it is created.\n",
        "\n",
        " **Mutable** **Data** **Types**\n",
        " They allow modification after creation. If you change a mutable object, its identity (memory location) remains the same, but its contents can be updated.\n",
        "\n",
        " e.g. my_list = [1, 2, 3]\n",
        " my_list.append(4)  # Modifies the list\n",
        " print(my_list)  # Output: [1, 2, 3, 4]\n",
        "\n",
        "  **Immutable Data Types**\n",
        " These data types cannot be modified after creation. Any operation that changes an immutable object will create a new object instead of modifying the existing one.\n",
        "\n",
        " e.g. my_tuple = (1, 2, 3)\n",
        " # my_tuple[0] = 4  # ❌ TypeError: 'tuple' object does not support item assignment\n",
        "\n",
        "3. What are the main differences between lists and tuples in Python?\n",
        " >> Lists and tuples in Python are both used to store collections of items, but they have key differences in terms of mutability, performance, and use cases. The most significant difference is that lists are mutable, meaning their contents can be changed after creation, while tuples are immutable, meaning they cannot be modified once defined. This makes tuples faster and more memory-efficient compared to lists, as they require less overhead and are optimized for fixed collections of data. Lists are defined using square brackets ([]), whereas tuples use parentheses (()). Due to their mutability, lists offer a variety of built-in methods like .append(), .remove(), and .sort(), which allow for dynamic modification. Tuples, on the other hand, have a limited set of methods, such as .count() and .index(), since they are designed for fixed data structures. Because of their immutability, tuples are often used in situations where data should remain unchanged, such as representing fixed coordinates or configurations, whereas lists are more suitable for collections that require frequent modifications. Additionally, since tuples are immutable, they offer better performance in terms of iteration speed, making them preferable in scenarios where efficiency is crucial. In summary, lists are ideal for dynamic data manipulation, while tuples provide stability, better performance, and memory efficiency for fixed data collections.\n",
        "\n",
        "4. Describe how dictionaries store data.\n",
        " >> Dictionaries in Python store data as key-value pairs using a hashing mechanism. Each key in a dictionary is unique and acts as an identifier for its associated value. Under the hood, Python dictionaries use a hash table to store and retrieve values efficiently. When a key-value pair is added, Python computes a hash of the key using a hashing function, which determines the location (or index) in the internal memory where the value is stored.\n",
        "\n",
        "5. Why might you use a set instead of a list in Python?\n",
        " >> One might use a set instead of a list in Python when they need to store unique values and perform fast lookups. Sets automatically remove duplicate elements, so you don’t have to check for them manually. They also provide much faster membership testing (checking if an item exists) because they use a hashing mechanism, whereas lists require scanning each element one by one. Additionally, sets allow efficient operations like finding common or different elements between groups, which would take more time with lists.\n",
        "\n",
        "6. What is a string in Python, and how is it different from a list?\n",
        " >> In Python, a string is a sequence of characters enclosed in single ('), double (\"), or triple quotes (''' or \"\"\"). Strings are used to represent text and are immutable, meaning their contents cannot be changed after creation.\n",
        "\n",
        "  Difference between List and String-\n",
        "  **Mutability**\n",
        "  A string is immutable (cannot be changed after creation).\n",
        "  A list is mutable (elements can be modified, added, or removed).\n",
        "\n",
        "  **Data Type**\n",
        "  A string stores only characters.\n",
        "  A list can store different data types (numbers, strings, booleans, etc.).\n",
        "\n",
        "  **Modification**\n",
        "  Strings require creating a new string to make changes.\n",
        "  Lists allow in-place modification of elements.\n",
        "\n",
        "  **Element Access**\n",
        "  Both strings and lists support indexing and slicing, but a string's elements cannot be reassigned.\n",
        "\n",
        "  **Operations**\n",
        "  Strings support concatenation (+) and repetition (*) but lack methods like append() or pop().\n",
        "  Lists have built-in methods for adding, removing, and sorting elements.\n",
        "\n",
        "  In short, strings are fixed sequences of characters, while lists are flexible collections of items that can be modified.\n",
        "\n",
        "7. How do tuples ensure data integrity in Python?\n",
        " >> Tuples ensure data integrity in Python by being immutable, meaning that  once they are created, their contents cannot be changed. This prevents  accidental modifications, ensuring that the stored data remains consistent and  reliable throughout the program.\n",
        "\n",
        "  How Tuples Maintain Data Integrity:\n",
        "  a) Immutability Prevents Unintended Changes- Since tuples cannot be modified, data remains intact and unchanged, reducing the risk of bugs caused by accidental overwrites.\n",
        "\n",
        "  b) Safe Storage of Critical Data- Tuples are ideal for storing fixed values such as configuration settings, database records, or coordinates, ensuring they remain unchanged during execution.\n",
        "\n",
        "  c) Data Integrity in Function Arguments- When passing a tuple to a function, you ensure the function cannot modify its contents, maintaining consistency.\n",
        "\n",
        "  d) Hashability for Use as Dictionary Keys and Set Elements- Tuples can be used as keys in dictionaries and elements in sets, making them reliable identifiers without the risk of modification.\n",
        "\n",
        "  e) Faster and More Memory-Efficient- Because tuples do not change, Python optimizes their memory usage and performance, reducing overhead and improving efficiency.\n",
        "\n",
        "8. What is a hash table, and how does it relate to dictionaries in Python?\n",
        " >> A hash table is a data structure that stores key-value pairs using a  \n",
        "  hashing function to map keys to specific memory locations. This allows for fast data retrieval, as the hash function computes an index where the value is stored, making lookups, insertions, and deletions extremely efficient—typically in O(1) time complexity on average.\n",
        "\n",
        " ** How Does a Hash Table Relate to Dictionaries in Python?**\n",
        "  Python dictionaries (dict) are implemented using hash tables. When you store a key-value pair in a dictionary, Python applies a hash function to the key to determine where to store the corresponding value. This allows for fast lookups, as the hash function directly computes the storage location instead of searching through the entire collection.\n",
        "\n",
        "9. Can lists contain different data types in Python?\n",
        " >> Yes\n",
        "\n",
        "10. Explain why strings are immutable in Python?\n",
        " >> Strings in Python are immutable, meaning their contents cannot be modified\n",
        "   after creation. This design choice is intentional and offers several advantages, including memory efficiency, security, and performance optimization. One key reason for immutability is string interning, where Python stores identical strings only once in memory. If strings were mutable, modifying one instance would unintentionally affect all references to the same string. Additionally, immutability allows strings to be hashable, making them suitable for use as dictionary keys and set elements. If strings could change, their hash values would also change, breaking the efficiency of hash-based data structures like dictionaries.\n",
        "\n",
        "   Another major benefit of immutable strings is thread safety. Since strings cannot be altered, multiple threads can access the same string without the risk of unexpected modifications, ensuring data integrity in concurrent programming. Immutability also enhances security, especially in cases like handling passwords, where accidental changes could introduce vulnerabilities. Although strings cannot be changed in place, Python provides multiple ways to create modified versions, such as concatenation, slicing, and string methods. Instead of altering the original string, operations like replace() or join() return a new string, preserving the integrity of the original data.\n",
        "\n",
        "11. What advantages do dictionaries offer over lists for certain tasks?\n",
        " >> a)Fast Lookups: Dictionaries provide O(1) average time complexity for\n",
        "   retrieving values using keys, whereas lists require O(n) time for searching.\n",
        "\n",
        "   b)Key-Value Mapping: Unlike lists, dictionaries store data as key-value pairs, making data retrieval more intuitive and efficient.\n",
        "\n",
        "   c) Uniqueness of Keys: Dictionary keys are unique, preventing duplicate entries and ensuring data integrity.\n",
        "\n",
        "   d)Efficient Data Organization: Ideal for representing structured data, such as user profiles or configuration settings, where each item has a unique identifier.\n",
        "\n",
        "   e) Flexible Data Storage: Can store heterogeneous data types, including lists, tuples, and even other dictionaries as values.\n",
        "\n",
        "   f) Dynamic Resizing: Unlike lists that may require shifting elements, dictionaries dynamically manage memory allocation without performance degradation.\n",
        "\n",
        "   g) Hash-Based Optimization: Uses a hash table, making operations like insertion and deletion faster compared to lists, which require shifting elements.\n",
        "\n",
        "   h) More Readable Code: Using meaningful keys improves code readability compared to using list indices, which can be less intuitive.\n",
        "\n",
        "12. Describe a scenario where using a tuple would be preferable over a list?\n",
        " >> A tuple is preferable over a list when you need to store fixed,  \n",
        "   unchangeable data that should remain constant throughout the program. One common scenario is when defining coordinates (latitude and longitude) for locations in a mapping application. Since these values represent a fixed geographical point, they should not be modified accidentally.\n",
        "\n",
        "   For example, a tuple (40.7128, -74.0060) can represent the latitude and longitude of New York City. Using a tuple ensures that these values remain unchanged, preventing accidental modifications that could lead to incorrect data. Additionally, tuples are memory-efficient and faster than lists, making them ideal for storing read-only data in large-scale applications.\n",
        "\n",
        "13. How do sets handle duplicate values in Python?\n",
        " >> In Python, sets automatically eliminate duplicate values when elements are added. This happens because sets use a hashing mechanism, where each element  is stored based on its unique hash value. If a duplicate value is encountered, the set ignores it rather than storing it again.\n",
        "\n",
        "   This behavior makes sets useful for removing duplicates from lists or other collections efficiently. For example, when converting a list to a set, any repeated elements are automatically discarded. This feature is particularly helpful for tasks like filtering unique data, performing fast membership checks, and executing mathematical operations like union, intersection, and difference.\n",
        "\n",
        "14. How does the “in” keyword work differently for lists and dictionaries?\n",
        " >> The in keyword works differently for lists and dictionaries in Python due  \n",
        "   to the way these data structures store and retrieve elements.\n",
        "\n",
        "   For lists, the in keyword performs a linear search (O(n) time complexity), checking each element one by one until it finds a match or reaches the end. This makes checking membership slower for large lists.\n",
        "\n",
        "  For dictionaries, the in keyword checks for keys only, not values. It leverages a hash table to quickly determine if a key exists, resulting in an average time complexity of O(1). This makes membership testing in dictionaries significantly faster than in lists, especially for large datasets.\n",
        "\n",
        "15. Can you modify the elements of a tuple? Explain why or why not.\n",
        " >> No, you cannot modify the elements of a tuple in Python because tuples are\n",
        "   immutable. Once a tuple is created, its elements cannot be changed, added, or removed.\n",
        "\n",
        "   This immutability is due to Python's design, which ensures data integrity, memory efficiency, and hashability. Since tuples are often used as dictionary keys and in sets, their immutability prevents accidental modifications that could break these data structures. However, if a tuple contains mutable elements (like a list), you can modify those elements, but the tuple itself remains unchanged.\n",
        "\n",
        "16. What is a nested dictionary, and give an example of its use case?\n",
        " >> A nested dictionary is a dictionary that contains one or more dictionaries as values. This allows data to be organized in a hierarchical structure, making it useful for storing complex relationships.\n",
        "\n",
        "  **Use Case Example:**\n",
        "  A student database can be represented using a nested dictionary, where each student's name is a key, and their details (like age, grade, and subjects) are stored in an inner dictionary.\n",
        "\n",
        "  students = {\n",
        "    \"Alice\": {\"age\": 20, \"grade\": \"A\", \"subjects\": [\"Math\", \"Physics\"]},\n",
        "    \"Bob\": {\"age\": 22, \"grade\": \"B\", \"subjects\": [\"History\", \"English\"]},\n",
        "   }\n",
        "\n",
        "   # Accessing Bob's grade\n",
        "   print(students[\"Bob\"][\"grade\"])  # Output: B\n",
        "\n",
        "   **Why Use Nested Dictionaries?**\n",
        "  a) Organized Data Storage: Helps manage hierarchical data efficiently.\n",
        "  b) Quick Lookup: Allows easy access to related information using multiple keys.\n",
        "  c) Scalability: Useful for complex data structures like databases, JSON responses, and configuration files.\n",
        "\n",
        "17. Describe the time complexity of accessing elements in a dictionary.\n",
        " >> The time complexity of accessing elements in a Python dictionary is\n",
        "  generally O(1) (constant time) on average. This is because dictionaries use a hash table to store key-value pairs, allowing for fast lookups by computing a hash function on the key.\n",
        "\n",
        "   However, in the worst case, when hash collisions occur (multiple keys mapping to the same hash), Python resolves them using chaining or open addressing, which may degrade performance to O(n) if all elements are stored in the same slot. Despite this, Python's hashing mechanism is well-optimized, so dictionary lookups remain highly efficient in most scenarios.\n",
        "\n",
        "18. In what situations are lists preferred over dictionaries?\n",
        " >> Situations where Lists are preferred over dictionaries are-\n",
        "  a) Ordered Data Storage: Lists maintain the order of elements, making them ideal when sequence matters (e.g., processing steps, timelines).\n",
        "\n",
        "  b)Index-Based Access: If you need to access elements by position rather than a key, lists are more suitable.\n",
        "\n",
        "  c)Iteration Efficiency: Iterating over a list is often faster than iterating over a dictionary, especially when only values are needed.\n",
        "\n",
        "  d) Memory Efficiency: Lists consume less memory than dictionaries since dictionaries require extra space for key-value mapping.\n",
        "\n",
        "  e)Simple Collections: When you only need to store a collection of values without assigning meaningful labels to them (e.g., a list of numbers, names, or items in a cart).\n",
        "\n",
        "  f)Sorting & Slicing: Lists support built-in sorting and slicing operations, making them better for tasks requiring ordered data manipulation.\n",
        "\n",
        "  g)Mutable & Flexible Structure: Lists allow easy modification, including adding, removing, or updating elements without worrying about unique keys.\n",
        "\n",
        "19. Why are dictionaries considered unordered, and how does that affect data retrieval?\n",
        " >> Dictionaries in Python were traditionally considered unordered because they use a hash table to store key-value pairs, meaning elements are placed in memory based on their hash values, not in a specific sequence.\n",
        "\n",
        "  However, since Python 3.7, dictionaries maintain insertion order, ensuring that elements appear in the order they were added. Despite this, dictionaries are still conceptually unordered because their primary purpose is fast key-based lookups rather than sequential access. This affects data retrieval as elements cannot be accessed by position like in lists; instead, they must be retrieved using their keys. The advantage of this structure is that dictionary lookups are highly efficient (O(1) time complexity on average), making them ideal for large datasets where quick access to values is required. However, in versions prior to Python 3.7, iterating over a dictionary could return items in an unpredictable order, making ordered data processing unreliable. Even though modern dictionaries retain insertion order, they remain optimized for fast lookups rather than ordered retrieval, which is their primary strength.\n",
        "\n",
        "20. Explain the difference between a list and a dictionary in terms of data retrieval.\n",
        " >> The main difference between a list and a dictionary in terms of data retrieval lies in how elements are accessed and their efficiency. In a list, data is retrieved using index-based access, meaning elements are accessed by their position in the list. Since lists are ordered, retrieving an element by index is fast (O(1) time complexity), but searching for an element by value requires scanning the entire list, making it O(n) in worst cases.\n",
        "\n",
        "On the other hand, a dictionary retrieves data using key-based access, meaning elements are accessed by their unique keys instead of positions. This allows for O(1) average time complexity for lookups, making retrieval significantly faster than searching in a list. However, unlike lists, dictionaries do not support direct indexing, meaning you cannot retrieve elements by position, only by their associated key. This makes dictionaries ideal for storing large datasets where quick lookups are required, while lists are better for ordered collections where indexing and sequential access are important.\n",
        "\n",
        "\n",
        "\n",
        "\n",
        "\n",
        "\n",
        "\n",
        "\n",
        "\n",
        "\n",
        "\n",
        "\n",
        "\n",
        "\n",
        "\n",
        "\n",
        "\n",
        "\n",
        "\n",
        "\n",
        "\n",
        "\n",
        "\n",
        "\n",
        "\n",
        "\n",
        "\n",
        "\n",
        "\n",
        "\n",
        "\n",
        "\n",
        "\n",
        "\n",
        "\n",
        "\n",
        "\n",
        "\n",
        "\n",
        "\n",
        "\n",
        "\n",
        "\n",
        "\n",
        "\n",
        "\n",
        "\n",
        "\n",
        "\n",
        "\n",
        "\n",
        "\n",
        "\n",
        "\n",
        ""
      ],
      "metadata": {
        "id": "rChc4KFc9YaF"
      }
    },
    {
      "cell_type": "code",
      "source": [
        "# 1. Write a code to create a string with your name and print it.\n",
        "\n",
        "name= \"Akansha Srivastava\"\n",
        "print(name)\n"
      ],
      "metadata": {
        "colab": {
          "base_uri": "https://localhost:8080/"
        },
        "id": "5oTl8O-NKWch",
        "outputId": "65c92c8a-6f3b-4a08-d6c4-0702a4775d74"
      },
      "execution_count": 1,
      "outputs": [
        {
          "output_type": "stream",
          "name": "stdout",
          "text": [
            "Akansha Srivastava\n"
          ]
        }
      ]
    },
    {
      "cell_type": "code",
      "source": [],
      "metadata": {
        "id": "zTrA-8B4KxfS"
      },
      "execution_count": null,
      "outputs": []
    },
    {
      "cell_type": "code",
      "source": [
        "# 2.Write a code to find the length of the string \"Hello World\".\n",
        "\n",
        "len(\"Hello World\")\n"
      ],
      "metadata": {
        "colab": {
          "base_uri": "https://localhost:8080/"
        },
        "id": "zVEIBiSjKx5a",
        "outputId": "b9e4d874-0658-4ad0-b678-80ddecc40f89"
      },
      "execution_count": 2,
      "outputs": [
        {
          "output_type": "execute_result",
          "data": {
            "text/plain": [
              "11"
            ]
          },
          "metadata": {},
          "execution_count": 2
        }
      ]
    },
    {
      "cell_type": "code",
      "source": [
        "# 3. Write a code to slice the first 3 characters from the string \"Python Programming\".\n",
        "\n",
        "a = \"Python Programming\"\n",
        "sliced_text = a[:3]\n",
        "print(sliced_text)"
      ],
      "metadata": {
        "colab": {
          "base_uri": "https://localhost:8080/"
        },
        "id": "HKJ0m7esLBXn",
        "outputId": "79e95c22-a604-4812-98b5-966d7a41bdea"
      },
      "execution_count": 3,
      "outputs": [
        {
          "output_type": "stream",
          "name": "stdout",
          "text": [
            "Pyt\n"
          ]
        }
      ]
    },
    {
      "cell_type": "code",
      "source": [
        "# 4. Write a code to convert the string \"hello\" to uppercase.\n",
        "\n",
        "a= (\"hello\")\n",
        "upper_text= a.upper()\n",
        "print(upper_text)"
      ],
      "metadata": {
        "colab": {
          "base_uri": "https://localhost:8080/"
        },
        "id": "fiqb_QDOLZOT",
        "outputId": "86e1c221-2451-46d0-a22e-209601a8c122"
      },
      "execution_count": 4,
      "outputs": [
        {
          "output_type": "stream",
          "name": "stdout",
          "text": [
            "HELLO\n"
          ]
        }
      ]
    },
    {
      "cell_type": "code",
      "source": [
        "# 5. Write a code to replace the word \"apple\" with \"orange\" in the string \"I like apple\".\n",
        "\n",
        "a = \"I like apple\"\n",
        "b = a.replace(\"apple\", \"orange\")\n",
        "print(b)"
      ],
      "metadata": {
        "colab": {
          "base_uri": "https://localhost:8080/"
        },
        "id": "vxQrQ540Lzjv",
        "outputId": "3121bf32-782a-413c-c84e-4d58b1177262"
      },
      "execution_count": 5,
      "outputs": [
        {
          "output_type": "stream",
          "name": "stdout",
          "text": [
            "I like orange\n"
          ]
        }
      ]
    },
    {
      "cell_type": "code",
      "source": [
        "# 6. Write a code to create a list with numbers 1 to 5 and print it.\n",
        "\n",
        "my_list = [1, 2, 3, 4, 5]\n",
        "print(my_list)\n"
      ],
      "metadata": {
        "colab": {
          "base_uri": "https://localhost:8080/"
        },
        "id": "1JD9ZKwgMKLx",
        "outputId": "5c8a197b-4b2c-4f11-d01a-ed958f950e34"
      },
      "execution_count": 6,
      "outputs": [
        {
          "output_type": "stream",
          "name": "stdout",
          "text": [
            "[1, 2, 3, 4, 5]\n"
          ]
        }
      ]
    },
    {
      "cell_type": "code",
      "source": [
        "# 7. Write a code to append the number 10 to the list [1, 2, 3, 4].\n",
        "\n",
        "num= [1,2,3,4]\n",
        "num.append(10)\n",
        "print(num)\n"
      ],
      "metadata": {
        "colab": {
          "base_uri": "https://localhost:8080/"
        },
        "id": "3dJAHQaNMadB",
        "outputId": "4bb93375-483b-49ad-889f-e93d3b99e2d5"
      },
      "execution_count": 7,
      "outputs": [
        {
          "output_type": "stream",
          "name": "stdout",
          "text": [
            "[1, 2, 3, 4, 10]\n"
          ]
        }
      ]
    },
    {
      "cell_type": "code",
      "source": [
        "# 8. Write a code to remove the number 3 from the list [1, 2, 3, 4, 5]\n",
        "\n",
        "num= [1,2,3,4,5]\n",
        "num.remove(3)\n",
        "print(num)"
      ],
      "metadata": {
        "colab": {
          "base_uri": "https://localhost:8080/"
        },
        "id": "dk5PNdHHMsdb",
        "outputId": "ba98360c-4acc-4180-d633-418881557c94"
      },
      "execution_count": 8,
      "outputs": [
        {
          "output_type": "stream",
          "name": "stdout",
          "text": [
            "[1, 2, 4, 5]\n"
          ]
        }
      ]
    },
    {
      "cell_type": "code",
      "source": [
        "# 9. Write a code to access the second element in the list ['a', 'b', 'c', 'd'].\n",
        "\n",
        "num= ['a', 'b', 'c', 'd']\n",
        "b= num[1]\n",
        "print(b)"
      ],
      "metadata": {
        "colab": {
          "base_uri": "https://localhost:8080/"
        },
        "id": "HaOca7-5M4FT",
        "outputId": "bb524274-d92e-4c32-f644-91fe3adabf82"
      },
      "execution_count": 10,
      "outputs": [
        {
          "output_type": "stream",
          "name": "stdout",
          "text": [
            "b\n"
          ]
        }
      ]
    },
    {
      "cell_type": "code",
      "source": [
        "# 10. Write a code to reverse the list [10, 20, 30, 40, 50].\n",
        "\n",
        "numbers = [10, 20, 30, 40, 50]\n",
        "numbers.reverse()\n",
        "print(numbers)"
      ],
      "metadata": {
        "colab": {
          "base_uri": "https://localhost:8080/"
        },
        "id": "xcQipajGNYHX",
        "outputId": "2fcbb4cf-a12d-402b-aec1-8b7189530658"
      },
      "execution_count": 11,
      "outputs": [
        {
          "output_type": "stream",
          "name": "stdout",
          "text": [
            "[50, 40, 30, 20, 10]\n"
          ]
        }
      ]
    },
    {
      "cell_type": "code",
      "source": [
        "# 11.  Write a code to create a tuple with the elements 100, 200, 300 and print it.\n",
        "\n",
        "num = (100, 200, 300)\n",
        "print(num)"
      ],
      "metadata": {
        "colab": {
          "base_uri": "https://localhost:8080/"
        },
        "id": "c-0oEiEPNnjE",
        "outputId": "567414f4-87f6-4e4d-8d07-c84d8a6c50e6"
      },
      "execution_count": 12,
      "outputs": [
        {
          "output_type": "stream",
          "name": "stdout",
          "text": [
            "(100, 200, 300)\n"
          ]
        }
      ]
    },
    {
      "cell_type": "code",
      "source": [
        "# 12. Write a code to access the second-to-last element of the tuple ('red', 'green', 'blue', 'yellow').\n",
        "\n",
        "colors = ('red', 'green', 'blue', 'yellow')\n",
        "second_to_last = colors[-2]\n",
        "print(second_to_last)"
      ],
      "metadata": {
        "colab": {
          "base_uri": "https://localhost:8080/"
        },
        "id": "gBFZ0TbeN6MJ",
        "outputId": "ae30764f-1516-4886-b9b7-65f520270d77"
      },
      "execution_count": 13,
      "outputs": [
        {
          "output_type": "stream",
          "name": "stdout",
          "text": [
            "blue\n"
          ]
        }
      ]
    },
    {
      "cell_type": "code",
      "source": [
        "# 13. Write a code to find the minimum number in the tuple (10, 20, 5, 15)\n",
        "\n",
        "num= (10, 20, 5, 15)\n",
        "min_num= min(num)\n",
        "print(min_num)\n"
      ],
      "metadata": {
        "colab": {
          "base_uri": "https://localhost:8080/"
        },
        "id": "JCJ5LUsvOD6a",
        "outputId": "794a9e69-ba7f-4493-c482-020d6b7cc845"
      },
      "execution_count": 14,
      "outputs": [
        {
          "output_type": "stream",
          "name": "stdout",
          "text": [
            "5\n"
          ]
        }
      ]
    },
    {
      "cell_type": "code",
      "source": [
        "# 14. Write a code to find the index of the element \"cat\" in the tuple ('dog', 'cat', 'rabbit').\n",
        "\n",
        "animals = ('dog', 'cat', 'rabbit')\n",
        "cat_index = animals.index('cat')\n",
        "print(cat_index)\n"
      ],
      "metadata": {
        "colab": {
          "base_uri": "https://localhost:8080/"
        },
        "id": "FYKlurbxOOK5",
        "outputId": "34c8bd71-5102-45e6-bcf1-2650a1a02e11"
      },
      "execution_count": 15,
      "outputs": [
        {
          "output_type": "stream",
          "name": "stdout",
          "text": [
            "1\n"
          ]
        }
      ]
    },
    {
      "cell_type": "code",
      "source": [
        "# 15. Write a code to create a tuple containing three different fruits and check if \"kiwi\" is in it.\n",
        "\n",
        "fruits = ('apple', 'banana', 'orange')\n",
        "check = 'kiwi' in fruits\n",
        "print(check)\n"
      ],
      "metadata": {
        "colab": {
          "base_uri": "https://localhost:8080/"
        },
        "id": "GZ-eFl_3OYWc",
        "outputId": "6f31830b-f67c-4fb9-e7e1-1cfeae65d805"
      },
      "execution_count": 16,
      "outputs": [
        {
          "output_type": "stream",
          "name": "stdout",
          "text": [
            "False\n"
          ]
        }
      ]
    },
    {
      "cell_type": "code",
      "source": [
        "# 16. Write a code to create a set with the elements 'a', 'b', 'c' and print it.\n",
        "\n",
        "set= ( 'a', 'b', 'c')\n",
        "print(set)"
      ],
      "metadata": {
        "colab": {
          "base_uri": "https://localhost:8080/"
        },
        "id": "Z07nLx4iOqIq",
        "outputId": "c62ed0c5-3ca1-4a4e-a2b8-d1c0dac27bd3"
      },
      "execution_count": 17,
      "outputs": [
        {
          "output_type": "stream",
          "name": "stdout",
          "text": [
            "('a', 'b', 'c')\n"
          ]
        }
      ]
    },
    {
      "cell_type": "code",
      "source": [
        "# 17. Write a code to clear all elements from the set {1, 2, 3, 4, 5}.\n",
        "\n",
        "set= {1, 2, 3, 4, 5}\n",
        "set.clear()\n",
        "print(set)\n"
      ],
      "metadata": {
        "colab": {
          "base_uri": "https://localhost:8080/"
        },
        "id": "U0Mtew33O6vt",
        "outputId": "579cfcef-701b-4074-92d4-21b03e26e66e"
      },
      "execution_count": 18,
      "outputs": [
        {
          "output_type": "stream",
          "name": "stdout",
          "text": [
            "set()\n"
          ]
        }
      ]
    },
    {
      "cell_type": "code",
      "source": [
        "# 18.  Write a code to remove the element 4 from the set {1, 2, 3, 4}.\n",
        "\n",
        "set= {1, 2, 3, 4}\n",
        "set.remove(4)\n",
        "print(set)"
      ],
      "metadata": {
        "colab": {
          "base_uri": "https://localhost:8080/"
        },
        "id": "mYK9ie_kPGso",
        "outputId": "4f828a6b-c78d-4340-c0fd-edb41004f3de"
      },
      "execution_count": 19,
      "outputs": [
        {
          "output_type": "stream",
          "name": "stdout",
          "text": [
            "{1, 2, 3}\n"
          ]
        }
      ]
    },
    {
      "cell_type": "code",
      "source": [
        "# 19. Write a code to find the union of two sets {1, 2, 3} and {3, 4, 5}.\n",
        "\n",
        "set1= {1, 2, 3}\n",
        "set2= {3, 4, 5}\n",
        "union_set= set1.union(set2)\n",
        "print(union_set)"
      ],
      "metadata": {
        "colab": {
          "base_uri": "https://localhost:8080/"
        },
        "id": "L8c-7ZSdPPFl",
        "outputId": "2bd0ce5f-362f-4e73-d8cc-7af1d80251e7"
      },
      "execution_count": 20,
      "outputs": [
        {
          "output_type": "stream",
          "name": "stdout",
          "text": [
            "{1, 2, 3, 4, 5}\n"
          ]
        }
      ]
    },
    {
      "cell_type": "code",
      "source": [
        "# 20. Write a code to find the intersection of two sets {1, 2, 3} and {2, 3, 4}.\n",
        "\n",
        "set1= {1, 2, 3}\n",
        "set2= {2, 3, 4}\n",
        "intersection_set= set1.intersection(set2)\n",
        "print(intersection_set)"
      ],
      "metadata": {
        "colab": {
          "base_uri": "https://localhost:8080/"
        },
        "id": "IswrB9rzPY8Z",
        "outputId": "c28a9e40-1125-49a8-8903-27a51a169f4a"
      },
      "execution_count": 21,
      "outputs": [
        {
          "output_type": "stream",
          "name": "stdout",
          "text": [
            "{2, 3}\n"
          ]
        }
      ]
    },
    {
      "cell_type": "code",
      "source": [
        "# 21.  Write a code to create a dictionary with the keys \"name\", \"age\", and \"city\", and print it.\n",
        "\n",
        "info = {\n",
        "    \"name\": \"Akansha\",\n",
        "    \"age\": 26,\n",
        "    \"city\": \"Delhi\"\n",
        "}\n",
        "\n",
        "print(info)"
      ],
      "metadata": {
        "colab": {
          "base_uri": "https://localhost:8080/"
        },
        "id": "EIZeUHFyQGuz",
        "outputId": "82dd7aa0-6948-40a8-a155-0d96736b04d9"
      },
      "execution_count": 25,
      "outputs": [
        {
          "output_type": "stream",
          "name": "stdout",
          "text": [
            "{'name': 'Akansha', 'age': 26, 'city': 'Delhi'}\n"
          ]
        }
      ]
    },
    {
      "cell_type": "code",
      "source": [],
      "metadata": {
        "id": "V7uQtn0IQqzZ"
      },
      "execution_count": null,
      "outputs": []
    },
    {
      "cell_type": "code",
      "source": [
        "# 22. Write a code to add a new key-value pair \"country\": \"USA\" to the dictionary {'name': 'John', 'age': 25}.\n",
        "\n",
        "info = {'name': 'John', 'age': 25}\n",
        "info['country'] = 'USA'\n",
        "print(info)"
      ],
      "metadata": {
        "colab": {
          "base_uri": "https://localhost:8080/"
        },
        "id": "aoWqjGvmQenv",
        "outputId": "eeed6815-2ef1-4580-af1e-ffe2fee03857"
      },
      "execution_count": 24,
      "outputs": [
        {
          "output_type": "stream",
          "name": "stdout",
          "text": [
            "{'name': 'John', 'age': 25, 'country': 'USA'}\n"
          ]
        }
      ]
    },
    {
      "cell_type": "code",
      "source": [
        "# 23. Write a code to access the value associated with the key \"name\" in the dictionary {'name': 'Alice', 'age': 30}\n",
        "\n",
        "info = {'name': 'Alice', 'age': 30}\n",
        "name_value = info['name']\n",
        "print(name_value)"
      ],
      "metadata": {
        "colab": {
          "base_uri": "https://localhost:8080/"
        },
        "id": "z93snoykQuCY",
        "outputId": "a47b7830-f924-47fc-d8d7-20da82d76e75"
      },
      "execution_count": 26,
      "outputs": [
        {
          "output_type": "stream",
          "name": "stdout",
          "text": [
            "Alice\n"
          ]
        }
      ]
    },
    {
      "cell_type": "code",
      "source": [
        "# 24. Write a code to remove the key \"age\" from the dictionary {'name': 'Bob', 'age': 22, 'city': 'New York'}.\n",
        "\n",
        "info = {'name': 'Bob', 'age': 22, 'city': 'New York'}\n",
        "del info['age']\n",
        "print(info)"
      ],
      "metadata": {
        "colab": {
          "base_uri": "https://localhost:8080/"
        },
        "id": "46_nBQ6vRRKA",
        "outputId": "bd2e2313-25fc-464a-91da-48f8042c7ead"
      },
      "execution_count": 27,
      "outputs": [
        {
          "output_type": "stream",
          "name": "stdout",
          "text": [
            "{'name': 'Bob', 'city': 'New York'}\n"
          ]
        }
      ]
    },
    {
      "cell_type": "code",
      "source": [
        "# 25. Write a code to check if the key \"city\" exists in the dictionary {'name': 'Alice', 'city': 'Paris'}.\n",
        "\n",
        "info = {'name': 'Alice', 'city': 'Paris'}\n",
        "city_exists = 'city' in info\n",
        "print(city_exists)"
      ],
      "metadata": {
        "colab": {
          "base_uri": "https://localhost:8080/"
        },
        "id": "Sj7npL_CRdy4",
        "outputId": "9ed94e83-7c98-497c-b2fd-af26729dd11d"
      },
      "execution_count": 28,
      "outputs": [
        {
          "output_type": "stream",
          "name": "stdout",
          "text": [
            "True\n"
          ]
        }
      ]
    },
    {
      "cell_type": "code",
      "source": [
        "# 26 Write a code to create a list, a tuple, and a dictionary, and print them all.\n",
        "\n",
        "my_list = [1, 2, 3, 4, 5]\n",
        "my_tuple = (6, 7, 8, 9, 10)\n",
        "my_dict = {\n",
        "    \"name\": \"Alice\",\n",
        "    \"age\": 25,\n",
        "    \"city\": \"New York\"\n",
        "}\n",
        "\n",
        "print(\"List:\", my_list)\n",
        "print(\"Tuple:\", my_tuple)\n",
        "print(\"Dictionary:\", my_dict)\n"
      ],
      "metadata": {
        "colab": {
          "base_uri": "https://localhost:8080/"
        },
        "id": "GPz4ClCNRpNh",
        "outputId": "d31df9ba-370e-43b7-a664-3e56e69096df"
      },
      "execution_count": 29,
      "outputs": [
        {
          "output_type": "stream",
          "name": "stdout",
          "text": [
            "List: [1, 2, 3, 4, 5]\n",
            "Tuple: (6, 7, 8, 9, 10)\n",
            "Dictionary: {'name': 'Alice', 'age': 25, 'city': 'New York'}\n"
          ]
        }
      ]
    },
    {
      "cell_type": "code",
      "source": [
        "# 27. Write a code to create a list of 5 random numbers between 1 and 100, sort it in ascending order, and print the result.(replaced)\n",
        "\n",
        "import random\n",
        "\n",
        "random_numbers = [random.randint(1, 100) for _ in range(5)]\n",
        "random_numbers.sort()\n",
        "print(random_numbers)\n"
      ],
      "metadata": {
        "colab": {
          "base_uri": "https://localhost:8080/"
        },
        "id": "p3T1ANZjSD2p",
        "outputId": "dc69ec3f-07db-434f-f864-ad45d0761f48"
      },
      "execution_count": 30,
      "outputs": [
        {
          "output_type": "stream",
          "name": "stdout",
          "text": [
            "[27, 43, 49, 62, 78]\n"
          ]
        }
      ]
    },
    {
      "cell_type": "code",
      "source": [
        "# 28. Write a code to create a list with strings and print the element at the third index.\n",
        "\n",
        "strings = [\"apple\", \"banana\", \"cherry\", \"date\", \"elderberry\"]\n",
        "third_element = strings[2]\n",
        "print(third_element)"
      ],
      "metadata": {
        "colab": {
          "base_uri": "https://localhost:8080/"
        },
        "id": "y-yJmwIlSQfg",
        "outputId": "56ea9962-3134-45c0-ce03-7b25ecca67c1"
      },
      "execution_count": 31,
      "outputs": [
        {
          "output_type": "stream",
          "name": "stdout",
          "text": [
            "cherry\n"
          ]
        }
      ]
    },
    {
      "cell_type": "code",
      "source": [
        "# 29. Write a code to combine two dictionaries into one and print the result.\n",
        "\n",
        "dict1 = {'a': 1, 'b': 2}\n",
        "dict2 = {'c': 3, 'd': 4}\n",
        "combined_dict = {**dict1, **dict2}\n",
        "print(combined_dict)"
      ],
      "metadata": {
        "colab": {
          "base_uri": "https://localhost:8080/"
        },
        "id": "DBRGMgzESX4h",
        "outputId": "1b1f0346-e53a-4710-edab-9b464e6b3f3a"
      },
      "execution_count": 32,
      "outputs": [
        {
          "output_type": "stream",
          "name": "stdout",
          "text": [
            "{'a': 1, 'b': 2, 'c': 3, 'd': 4}\n"
          ]
        }
      ]
    },
    {
      "cell_type": "code",
      "source": [
        "# 30 Write a code to convert a list of strings into a set.\n",
        "\n",
        "string_list = [\"apple\", \"banana\", \"cherry\", \"apple\", \"banana\"]\n",
        "string_set = set(string_list)\n",
        "print(string_set)\n"
      ],
      "metadata": {
        "colab": {
          "base_uri": "https://localhost:8080/",
          "height": 193
        },
        "id": "WXS2U_MdSf_Y",
        "outputId": "5e5f48f2-699c-4397-bbb7-9a027a1b881a"
      },
      "execution_count": 34,
      "outputs": [
        {
          "output_type": "error",
          "ename": "TypeError",
          "evalue": "'set' object is not callable",
          "traceback": [
            "\u001b[0;31m---------------------------------------------------------------------------\u001b[0m",
            "\u001b[0;31mTypeError\u001b[0m                                 Traceback (most recent call last)",
            "\u001b[0;32m<ipython-input-34-4fd266fe1112>\u001b[0m in \u001b[0;36m<cell line: 0>\u001b[0;34m()\u001b[0m\n\u001b[1;32m      2\u001b[0m \u001b[0;34m\u001b[0m\u001b[0m\n\u001b[1;32m      3\u001b[0m \u001b[0mstring_list\u001b[0m \u001b[0;34m=\u001b[0m \u001b[0;34m[\u001b[0m\u001b[0;34m\"apple\"\u001b[0m\u001b[0;34m,\u001b[0m \u001b[0;34m\"banana\"\u001b[0m\u001b[0;34m,\u001b[0m \u001b[0;34m\"cherry\"\u001b[0m\u001b[0;34m,\u001b[0m \u001b[0;34m\"apple\"\u001b[0m\u001b[0;34m,\u001b[0m \u001b[0;34m\"banana\"\u001b[0m\u001b[0;34m]\u001b[0m\u001b[0;34m\u001b[0m\u001b[0;34m\u001b[0m\u001b[0m\n\u001b[0;32m----> 4\u001b[0;31m \u001b[0mstring_set\u001b[0m \u001b[0;34m=\u001b[0m \u001b[0mset\u001b[0m\u001b[0;34m(\u001b[0m\u001b[0mstring_list\u001b[0m\u001b[0;34m)\u001b[0m\u001b[0;34m\u001b[0m\u001b[0;34m\u001b[0m\u001b[0m\n\u001b[0m\u001b[1;32m      5\u001b[0m \u001b[0mprint\u001b[0m\u001b[0;34m(\u001b[0m\u001b[0mstring_set\u001b[0m\u001b[0;34m)\u001b[0m\u001b[0;34m\u001b[0m\u001b[0;34m\u001b[0m\u001b[0m\n",
            "\u001b[0;31mTypeError\u001b[0m: 'set' object is not callable"
          ]
        }
      ]
    }
  ]
}